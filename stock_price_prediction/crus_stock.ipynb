{
 "cells": [
  {
   "cell_type": "code",
   "execution_count": 58,
   "metadata": {},
   "outputs": [],
   "source": [
    "import pandas as pd"
   ]
  },
  {
   "cell_type": "code",
   "execution_count": 59,
   "metadata": {},
   "outputs": [],
   "source": [
    "df_2016 = pd.read_csv(\"crus_stock_2016.csv\", thousands=\",\")\n",
    "df_2017 = pd.read_csv(\"crus_stock_2017.csv\", thousands=\",\")\n",
    "df_2018 = pd.read_csv(\"crus_stock_2018.csv\", thousands=\",\")\n",
    "df_2019 = pd.read_csv(\"crus_stock_2019.csv\", thousands=\",\")\n",
    "df_2020 = pd.read_csv(\"crus_stock_2020.csv\", thousands=\",\")\n",
    "df_2021 = pd.read_csv(\"crus_stock_2021.csv\", thousands=\",\")\n",
    "df_2022 = pd.read_csv(\"crus_stock_2022.csv\", thousands=\",\")\n",
    "df_2023 = pd.read_csv(\"crus_stock_2023.csv\", thousands=\",\")"
   ]
  },
  {
   "cell_type": "code",
   "execution_count": 60,
   "metadata": {},
   "outputs": [],
   "source": [
    "df_2016[\"Date\"] = pd.to_datetime(df_2016[\"Date\"])\n",
    "df_2017[\"Date\"] = pd.to_datetime(df_2017[\"Date\"])\n",
    "df_2018[\"Date\"] = pd.to_datetime(df_2018[\"Date\"])\n",
    "df_2019[\"Date\"] = pd.to_datetime(df_2019[\"Date\"])\n",
    "df_2020[\"Date\"] = pd.to_datetime(df_2020[\"Date\"])\n",
    "df_2021[\"Date\"] = pd.to_datetime(df_2021[\"Date\"])\n",
    "df_2022[\"Date\"] = pd.to_datetime(df_2022[\"Date\"])\n",
    "df_2023[\"Date\"] = pd.to_datetime(df_2023[\"Date\"])"
   ]
  },
  {
   "cell_type": "code",
   "execution_count": 61,
   "metadata": {},
   "outputs": [],
   "source": [
    "df_2016.sort_index(inplace=True, ascending=False)\n",
    "df_2017.sort_index(inplace=True, ascending=False)\n",
    "df_2018.sort_index(inplace=True, ascending=False)\n",
    "df_2019.sort_index(inplace=True, ascending=False)\n",
    "df_2020.sort_index(inplace=True, ascending=False)\n",
    "df_2021.sort_index(inplace=True, ascending=False)\n",
    "df_2022.sort_index(inplace=True, ascending=False)\n",
    "df_2023.sort_index(inplace=True, ascending=False)"
   ]
  },
  {
   "cell_type": "code",
   "execution_count": 62,
   "metadata": {},
   "outputs": [],
   "source": [
    "df = pd.concat([df_2016, df_2017, df_2018, df_2019, df_2020, df_2021, df_2022, df_2023])"
   ]
  },
  {
   "cell_type": "code",
   "execution_count": 63,
   "metadata": {},
   "outputs": [],
   "source": [
    "# Convert volume into a float\n",
    "df[\"Volume\"] = df.Volume.astype(int)"
   ]
  },
  {
   "cell_type": "code",
   "execution_count": 64,
   "metadata": {},
   "outputs": [
    {
     "name": "stdout",
     "output_type": "stream",
     "text": [
      "<class 'pandas.core.frame.DataFrame'>\n",
      "Index: 1887 entries, 236 to 0\n",
      "Data columns (total 6 columns):\n",
      " #   Column  Non-Null Count  Dtype         \n",
      "---  ------  --------------  -----         \n",
      " 0   Date    1887 non-null   datetime64[ns]\n",
      " 1   Open    1887 non-null   float64       \n",
      " 2   High    1887 non-null   float64       \n",
      " 3   Low     1887 non-null   float64       \n",
      " 4   Close   1887 non-null   float64       \n",
      " 5   Volume  1887 non-null   int32         \n",
      "dtypes: datetime64[ns](1), float64(4), int32(1)\n",
      "memory usage: 95.8 KB\n"
     ]
    }
   ],
   "source": [
    "df.info()"
   ]
  },
  {
   "cell_type": "code",
   "execution_count": 65,
   "metadata": {},
   "outputs": [],
   "source": [
    "df.to_csv(\"CRUS_stock_2016_2023.csv\", index=False)"
   ]
  },
  {
   "cell_type": "code",
   "execution_count": 66,
   "metadata": {},
   "outputs": [
    {
     "data": {
      "text/html": [
       "<div>\n",
       "<style scoped>\n",
       "    .dataframe tbody tr th:only-of-type {\n",
       "        vertical-align: middle;\n",
       "    }\n",
       "\n",
       "    .dataframe tbody tr th {\n",
       "        vertical-align: top;\n",
       "    }\n",
       "\n",
       "    .dataframe thead th {\n",
       "        text-align: right;\n",
       "    }\n",
       "</style>\n",
       "<table border=\"1\" class=\"dataframe\">\n",
       "  <thead>\n",
       "    <tr style=\"text-align: right;\">\n",
       "      <th></th>\n",
       "      <th>Date</th>\n",
       "      <th>Open</th>\n",
       "      <th>High</th>\n",
       "      <th>Low</th>\n",
       "      <th>Close</th>\n",
       "      <th>Volume</th>\n",
       "    </tr>\n",
       "  </thead>\n",
       "  <tbody>\n",
       "    <tr>\n",
       "      <th>236</th>\n",
       "      <td>2016-01-04</td>\n",
       "      <td>29.35</td>\n",
       "      <td>29.45</td>\n",
       "      <td>28.31</td>\n",
       "      <td>29.30</td>\n",
       "      <td>1569911</td>\n",
       "    </tr>\n",
       "    <tr>\n",
       "      <th>235</th>\n",
       "      <td>2016-01-05</td>\n",
       "      <td>29.48</td>\n",
       "      <td>29.54</td>\n",
       "      <td>27.32</td>\n",
       "      <td>27.56</td>\n",
       "      <td>3932534</td>\n",
       "    </tr>\n",
       "    <tr>\n",
       "      <th>234</th>\n",
       "      <td>2016-01-06</td>\n",
       "      <td>27.07</td>\n",
       "      <td>27.92</td>\n",
       "      <td>26.73</td>\n",
       "      <td>26.80</td>\n",
       "      <td>3669946</td>\n",
       "    </tr>\n",
       "    <tr>\n",
       "      <th>233</th>\n",
       "      <td>2016-01-07</td>\n",
       "      <td>26.10</td>\n",
       "      <td>27.15</td>\n",
       "      <td>25.65</td>\n",
       "      <td>26.80</td>\n",
       "      <td>3080217</td>\n",
       "    </tr>\n",
       "    <tr>\n",
       "      <th>232</th>\n",
       "      <td>2016-01-08</td>\n",
       "      <td>27.51</td>\n",
       "      <td>29.45</td>\n",
       "      <td>27.32</td>\n",
       "      <td>27.80</td>\n",
       "      <td>7873216</td>\n",
       "    </tr>\n",
       "    <tr>\n",
       "      <th>...</th>\n",
       "      <td>...</td>\n",
       "      <td>...</td>\n",
       "      <td>...</td>\n",
       "      <td>...</td>\n",
       "      <td>...</td>\n",
       "      <td>...</td>\n",
       "    </tr>\n",
       "    <tr>\n",
       "      <th>4</th>\n",
       "      <td>2023-12-04</td>\n",
       "      <td>75.77</td>\n",
       "      <td>77.19</td>\n",
       "      <td>75.57</td>\n",
       "      <td>77.02</td>\n",
       "      <td>339059</td>\n",
       "    </tr>\n",
       "    <tr>\n",
       "      <th>3</th>\n",
       "      <td>2023-12-05</td>\n",
       "      <td>76.38</td>\n",
       "      <td>78.26</td>\n",
       "      <td>75.80</td>\n",
       "      <td>78.10</td>\n",
       "      <td>499485</td>\n",
       "    </tr>\n",
       "    <tr>\n",
       "      <th>2</th>\n",
       "      <td>2023-12-06</td>\n",
       "      <td>78.74</td>\n",
       "      <td>79.40</td>\n",
       "      <td>77.44</td>\n",
       "      <td>77.73</td>\n",
       "      <td>290438</td>\n",
       "    </tr>\n",
       "    <tr>\n",
       "      <th>1</th>\n",
       "      <td>2023-12-07</td>\n",
       "      <td>77.98</td>\n",
       "      <td>78.59</td>\n",
       "      <td>77.46</td>\n",
       "      <td>78.56</td>\n",
       "      <td>284243</td>\n",
       "    </tr>\n",
       "    <tr>\n",
       "      <th>0</th>\n",
       "      <td>2023-12-08</td>\n",
       "      <td>78.52</td>\n",
       "      <td>79.81</td>\n",
       "      <td>78.50</td>\n",
       "      <td>78.53</td>\n",
       "      <td>545389</td>\n",
       "    </tr>\n",
       "  </tbody>\n",
       "</table>\n",
       "<p>1887 rows × 6 columns</p>\n",
       "</div>"
      ],
      "text/plain": [
       "          Date   Open   High    Low  Close   Volume\n",
       "236 2016-01-04  29.35  29.45  28.31  29.30  1569911\n",
       "235 2016-01-05  29.48  29.54  27.32  27.56  3932534\n",
       "234 2016-01-06  27.07  27.92  26.73  26.80  3669946\n",
       "233 2016-01-07  26.10  27.15  25.65  26.80  3080217\n",
       "232 2016-01-08  27.51  29.45  27.32  27.80  7873216\n",
       "..         ...    ...    ...    ...    ...      ...\n",
       "4   2023-12-04  75.77  77.19  75.57  77.02   339059\n",
       "3   2023-12-05  76.38  78.26  75.80  78.10   499485\n",
       "2   2023-12-06  78.74  79.40  77.44  77.73   290438\n",
       "1   2023-12-07  77.98  78.59  77.46  78.56   284243\n",
       "0   2023-12-08  78.52  79.81  78.50  78.53   545389\n",
       "\n",
       "[1887 rows x 6 columns]"
      ]
     },
     "execution_count": 66,
     "metadata": {},
     "output_type": "execute_result"
    }
   ],
   "source": [
    "df"
   ]
  },
  {
   "cell_type": "code",
   "execution_count": null,
   "metadata": {},
   "outputs": [],
   "source": []
  }
 ],
 "metadata": {
  "kernelspec": {
   "display_name": "Python 3",
   "language": "python",
   "name": "python3"
  },
  "language_info": {
   "codemirror_mode": {
    "name": "ipython",
    "version": 3
   },
   "file_extension": ".py",
   "mimetype": "text/x-python",
   "name": "python",
   "nbconvert_exporter": "python",
   "pygments_lexer": "ipython3",
   "version": "3.8.2"
  }
 },
 "nbformat": 4,
 "nbformat_minor": 2
}
